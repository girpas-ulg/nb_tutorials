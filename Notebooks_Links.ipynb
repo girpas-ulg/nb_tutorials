{
 "metadata": {
  "name": "",
  "signature": "sha256:dba6efde5f17eca33c6c69f966cbdd613c6651c86d5a96ea228860783138a98f"
 },
 "nbformat": 3,
 "nbformat_minor": 0,
 "worksheets": [
  {
   "cells": [
    {
     "cell_type": "markdown",
     "metadata": {},
     "source": [
      "A collection of interesting tutorials and examples (links, mostly notebooks)\n",
      "============================================================================\n",
      "\n",
      "Introduction to Python and the SciPy Stack\n",
      "------------------------------------------\n",
      "\n",
      "Python is a general-purpose language and the SciPy Stack is a collection of core Python packages that are used by most of the Python-based scientific applications. These packages are:\n",
      "- Numpy: numerical calculations (arrays)\n",
      "- Scipy: numerical algorithms (interpolation, integration, linear algebra, basic statitics...)\n",
      "- Matplotlib: visualization\n",
      "- Pandas (statmodels): data analysis\n",
      "- Sympy: symbolic mathematics\n",
      "- IPython: interactive computing\n",
      "\n",
      "A huge number of tutorials can be found on the Web. A good place to start is the [Lectures on Scientific Computing with Python](http://nbviewer.ipython.org/github/jrjohansson/scientific-python-lectures/tree/master/) by J.R. Johansson. These are short though complete introductions and it is written as IPython notebooks. It also includes tutorials for installing Python and its core scientific packages, interfacing C/Fortran code with Python, and a short introduction to revision control softwares (git).\n",
      "\n",
      "[Software Carpentry](http://software-carpentry.org/) also provide well-made lessons for scientists at several levels of programming skills (novice, intermediate...), not only for Scientific Python, but also for Shell programming, Git, databases, etc... [Version 5](http://software-carpentry.org/lessons.html) of their lessons is mostly based on notebooks.  \n",
      "\n",
      "Other short courses for numpy and matplotlib can also be found [here](http://nbviewer.ipython.org/github/SciTools/courses/tree/master/course_content/).\n",
      "\n",
      "Here is another [introduction to Python for geoscientists](http://nbviewer.ipython.org/github/ggorman/Introduction-to-programming-for-geoscientists/tree/master/notebook/) that go deeper into the basics of programming. \n",
      "\n",
      "Tutorials for Pandas can be found [here](https://bitbucket.org/hrojas/learn-pandas) or [here](http://nbviewer.ipython.org/gist/wesm/4757075/PandasTour.ipynb).\n",
      "\n",
      "\n",
      "IPython (notebook) usage\n",
      "------------------------\n",
      "\n",
      "Tutorials for using the IPython Notebook interface are available in the official IPython repository: [Index](http://nbviewer.ipython.org/github/ipython/ipython/blob/master/examples/Notebook/Index.ipynb).\n",
      "\n",
      "\n",
      "Git\n",
      "---\n",
      "\n",
      "Tutorials from [Software Carpentry](http://software-carpentry.org/) and [Lectures on Scientific Computing with Python](http://nbviewer.ipython.org/github/jrjohansson/scientific-python-lectures/tree/master/).\n",
      "\n",
      "Another [tutorial](http://nbviewer.ipython.org/github/fperez/reprosw/blob/master/Version%20Control.ipynb)\n",
      "\n",
      "\n",
      "Iris\n",
      "----\n",
      "\n",
      "[An introduction to Iris](http://nbviewer.ipython.org/github/SciTools/courses/blob/master/course_content/iris_intro.ipynb)\n",
      "\n",
      "\n",
      "Notebooks for climatologists and oceanographers (and Earth scientists)\n",
      "----------------------------------------------------------------------\n",
      "\n",
      "[This Ocefpaf's repository](http://nbviewer.ipython.org/github/ocefpaf/python4oceanographers/tree/master/content/downloads/notebooks/) on github contains a bunch of notebooks that show interesting examples based on scientific python packages for problems applied to atmospheric science and oceanography.\n",
      "\n",
      "The website http://www.earthpy.org aims to provide a growing collection of notebooks and links to stuff that may be useful for geoscientists (direct access to the notebooks [here](http://nbviewer.ipython.org/github/koldunovn/earthpy.org/tree/master/content/notebooks/).\n",
      "\n",
      "\n",
      "A gallery of interesting IPython Notebooks\n",
      "------------------------------------------\n",
      "\n",
      "[This page](https://github.com/ipython/ipython/wiki/A-gallery-of-interesting-IPython-Notebooks) contains many up-to-date links to Notebooks on various general or more specific, science-related topics.\n"
     ]
    },
    {
     "cell_type": "code",
     "collapsed": false,
     "input": [],
     "language": "python",
     "metadata": {},
     "outputs": []
    }
   ],
   "metadata": {}
  }
 ]
}