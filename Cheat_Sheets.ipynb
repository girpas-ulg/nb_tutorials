{
 "metadata": {
  "name": "",
  "signature": "sha256:89355c1b08ed2798d497854b8f288caf7a014a30a3226c55227d3d22976853ef"
 },
 "nbformat": 3,
 "nbformat_minor": 0,
 "worksheets": [
  {
   "cells": [
    {
     "cell_type": "markdown",
     "metadata": {},
     "source": [
      "Cheat sheets (links)\n",
      "====================\n",
      "\n",
      "- IPython commands : http://damontallen.github.io/IPython-quick-ref-sheets/\n",
      "- Markdown : http://daringfireball.net/projects/markdown/syntax (long) or http://blog.lib.umn.edu/crosb002/leadership/Markdown_Cheat_Sheet.pdf (short)\n",
      "- Pylab (Python, Numpy, Matplotlib) : http://www.physik.uzh.ch/lectures/informatik/python/res/pyrefcard.pdf\n",
      "- MATLAB/Octave - Pylab - R equivalent commands : http://mathesaurus.sourceforge.net/matlab-python-xref.pdf\n"
     ]
    },
    {
     "cell_type": "code",
     "collapsed": false,
     "input": [],
     "language": "python",
     "metadata": {},
     "outputs": []
    }
   ],
   "metadata": {}
  }
 ]
}